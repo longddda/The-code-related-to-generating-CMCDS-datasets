{
 "cells": [
  {
   "cell_type": "code",
   "execution_count": 7,
   "id": "256b0168-13f7-4300-9cfd-0dc2fee35cbf",
   "metadata": {},
   "outputs": [
    {
     "name": "stdout",
     "output_type": "stream",
     "text": [
      "Converted mol_file\\molecule_1.mol to gjf_opt\\molecule_1.gjf\n",
      "Converted mol_file\\molecule_2.mol to gjf_opt\\molecule_2.gjf\n",
      "Converted mol_file\\molecule_3.mol to gjf_opt\\molecule_3.gjf\n",
      "Converted mol_file\\molecule_4.mol to gjf_opt\\molecule_4.gjf\n",
      "Converted mol_file\\molecule_5.mol to gjf_opt\\molecule_5.gjf\n",
      "Converted mol_file\\molecule_6.mol to gjf_opt\\molecule_6.gjf\n",
      "Converted mol_file\\molecule_7.mol to gjf_opt\\molecule_7.gjf\n",
      "Converted mol_file\\molecule_8.mol to gjf_opt\\molecule_8.gjf\n",
      "Converted mol_file\\molecule_9.mol to gjf_opt\\molecule_9.gjf\n",
      "Converted mol_file\\molecule_10.mol to gjf_opt\\molecule_10.gjf\n",
      "Conversion completed!\n"
     ]
    }
   ],
   "source": [
    "from rdkit import Chem\n",
    "from rdkit.Chem import AllChem\n",
    "import os\n",
    "\n",
    "# 定义输入和输出文件夹路径:Rdkit使用的时候不能具备中文路径\n",
    "input_folder = \"mol_file\" # 包含mol文件的文件夹路径\n",
    "output_folder = \"gjf_opt\" # 存储gjf文件的文件夹路径\n",
    "\n",
    "# 获取mol文件夹中的所有mol文件，并按照文件名数字排序\n",
    "mol_files = sorted([f for f in os.listdir(input_folder) if f.endswith('.mol')], key=lambda f: int(f.split('_')[1].split('.')[0]))\n",
    "\n",
    "\n",
    "# 遍历mol文件夹中的所有文件\n",
    "\n",
    "for filename in mol_files:\n",
    "    if filename.endswith('.mol'):  # 确保只处理mol文件\n",
    "        # 构建输入和输出文件的完整路径\n",
    "        input_file = os.path.join(input_folder, filename)\n",
    "        output_file = os.path.join(output_folder, filename.replace('.mol', '.gjf'))\n",
    "\n",
    "        # 读取mol文件\n",
    "        mol = Chem.MolFromMolFile(input_file)\n",
    "\n",
    "        # 生成gjf文件内容\n",
    "        gjf_content = f'%chk={filename.replace(\".mol\", \".chk\")}\\n%mem=10GB\\n# opt b3lyp/6-31g(d)\\n\\nTitle\\n\\n0 1\\n'\n",
    "\n",
    "        # 生成分子的三维构象\n",
    "        mol = Chem.AddHs(mol)  # 添加氢原子\n",
    "        AllChem.EmbedMolecule(mol)  # 生成初始构象\n",
    "        AllChem.UFFOptimizeMolecule(mol)  # 进行力场优化\n",
    "\n",
    "        for atom in mol.GetAtoms():\n",
    "            atom_symbol = atom.GetSymbol()\n",
    "            atom_coords = mol.GetConformer().GetAtomPosition(atom.GetIdx())\n",
    "            atom_line = f'{atom_symbol:<3} {atom_coords.x:>10.6f} {atom_coords.y:>10.6f} {atom_coords.z:>10.6f}\\n'\n",
    "            gjf_content += atom_line\n",
    "\n",
    "        # 写入gjf文件\n",
    "        with open(output_file, 'w') as f:\n",
    "            f.write(gjf_content)\n",
    "            f.write('\\n')#添加一个空行\n",
    "\n",
    "        print(f'Converted {input_file} to {output_file}')\n",
    "\n",
    "print('Conversion completed!')"
   ]
  },
  {
   "cell_type": "code",
   "execution_count": null,
   "id": "b422fe0b",
   "metadata": {},
   "outputs": [],
   "source": []
  }
 ],
 "metadata": {
  "kernelspec": {
   "display_name": "Python [conda env:base] *",
   "language": "python",
   "name": "conda-base-py"
  },
  "language_info": {
   "codemirror_mode": {
    "name": "ipython",
    "version": 3
   },
   "file_extension": ".py",
   "mimetype": "text/x-python",
   "name": "python",
   "nbconvert_exporter": "python",
   "pygments_lexer": "ipython3",
   "version": "3.12.7"
  },
  "toc": {
   "base_numbering": 1,
   "nav_menu": {},
   "number_sections": true,
   "sideBar": true,
   "skip_h1_title": false,
   "title_cell": "Table of Contents",
   "title_sidebar": "Contents",
   "toc_cell": false,
   "toc_position": {},
   "toc_section_display": true,
   "toc_window_display": false
  }
 },
 "nbformat": 4,
 "nbformat_minor": 5
}
