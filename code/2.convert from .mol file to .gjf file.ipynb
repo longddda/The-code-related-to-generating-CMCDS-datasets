{
  "cell_type": "markdown",
  "metadata": {},
  "source": [
    "### Convert MOL files to Gaussian Input (GJF) Files\n",
    "\n",
    "This section converts all `.mol` structure files into Gaussian input (`.gjf`) files using **RDKit**.  \n",
    "The generated `.gjf` files are saved in the `gjf_opt/` directory and are ready for **geometry optimization** with Gaussian.\n",
    "\n",
    "#### Workflow Steps:\n",
    "\n",
    "1. Read each `.mol` file from the `mol_file/` directory  \n",
    "2. Add hydrogen atoms  \n",
    "3. Generate a 3D conformation  \n",
    "4. Optimize the structure using the **UFF** force field  \n",
    "5. Write atomic coordinates to a `.gjf` file with proper **Gaussian headers**\n",
    "\n",
    "> *Make sure the `gjf_opt/` folder exists before running the cell, or let the script create it automatically.*"
  ]
}


{
 "cells": [
  {
   "cell_type": "code",
   "execution_count": 7,
   "id": "256b0168-13f7-4300-9cfd-0dc2fee35cbf",
   "metadata": {},
   "outputs": [
    {
     "name": "stdout",
     "output_type": "stream",
     "text": [
      "Converted mol_file\\molecule_1.mol to gjf_opt\\molecule_1.gjf\n",
      "Converted mol_file\\molecule_2.mol to gjf_opt\\molecule_2.gjf\n",
      "Converted mol_file\\molecule_3.mol to gjf_opt\\molecule_3.gjf\n",
      "Converted mol_file\\molecule_4.mol to gjf_opt\\molecule_4.gjf\n",
      "Converted mol_file\\molecule_5.mol to gjf_opt\\molecule_5.gjf\n",
      "Converted mol_file\\molecule_6.mol to gjf_opt\\molecule_6.gjf\n",
      "Converted mol_file\\molecule_7.mol to gjf_opt\\molecule_7.gjf\n",
      "Converted mol_file\\molecule_8.mol to gjf_opt\\molecule_8.gjf\n",
      "Converted mol_file\\molecule_9.mol to gjf_opt\\molecule_9.gjf\n",
      "Converted mol_file\\molecule_10.mol to gjf_opt\\molecule_10.gjf\n",
      "Conversion completed!\n"
     ]
    }
   ],
   "source": [
    "from rdkit import Chem\n",
    "from rdkit.Chem import AllChem\n",
    "import os\n",
    "\n",
    "# Define the input and output folder paths.\n",
    "input_folder = \"mol_file\" # The folder path containing the MOL files.\n",
    "output_folder = \"gjf_opt\" # The folder path for storing GJF files.\n",
    "\n",
    "# Get all MOL files in the MOL folder and sort them by numeric filename.\n",
    "mol_files = sorted([f for f in os.listdir(input_folder) if f.endswith('.mol')], key=lambda f: int(f.split('_')[1].split('.')[0]))\n",
    "\n",
    "\n",
    "# Iterate through all files in the MOL folder.\n",
    "\n",
    "for filename in mol_files:\n",
    "    if filename.endswith('.mol'):  # Ensure that only MOL files are processed.\n",
    "        # Construct the full paths for input and output files.\n",
    "        input_file = os.path.join(input_folder, filename)\n",
    "        output_file = os.path.join(output_folder, filename.replace('.mol', '.gjf'))\n",
    "\n",
    "        # Read the MOL file.\n",
    "        mol = Chem.MolFromMolFile(input_file)\n",
    "\n",
    "        # Generate the content of the GJF file.\n",
    "        gjf_content = f'%chk={filename.replace(\".mol\", \".chk\")}\\n%mem=10GB\\n# opt b3lyp/6-31g(d)\\n\\nTitle\\n\\n0 1\\n'\n",
    "\n",
    "        # Generate the 3D conformation of the molecule.\n",
    "        mol = Chem.AddHs(mol)  # Add hydrogen atoms.\n",
    "        AllChem.EmbedMolecule(mol)  # Generate the initial conformation.\n",
    "        AllChem.UFFOptimizeMolecule(mol)  # Perform force field optimization.\n",
    "\n",
    "        for atom in mol.GetAtoms():\n",
    "            atom_symbol = atom.GetSymbol()\n",
    "            atom_coords = mol.GetConformer().GetAtomPosition(atom.GetIdx())\n",
    "            atom_line = f'{atom_symbol:<3} {atom_coords.x:>10.6f} {atom_coords.y:>10.6f} {atom_coords.z:>10.6f}\\n'\n",
    "            gjf_content += atom_line\n",
    "\n",
    "        # Write to the GJF file.\n",
    "        with open(output_file, 'w') as f:\n",
    "            f.write(gjf_content)\n",
    "            f.write('\\n')\n",
    "\n",
    "        print(f'Converted {input_file} to {output_file}')\n",
    "\n",
    "print('Conversion completed!')"
   ]
  },
  {
   "cell_type": "code",
   "execution_count": null,
   "id": "b422fe0b",
   "metadata": {},
   "outputs": [],
   "source": []
  }
 ],
 "metadata": {
  "kernelspec": {
   "display_name": "Python [conda env:base] *",
   "language": "python",
   "name": "conda-base-py"
  },
  "language_info": {
   "codemirror_mode": {
    "name": "ipython",
    "version": 3
   },
   "file_extension": ".py",
   "mimetype": "text/x-python",
   "name": "python",
   "nbconvert_exporter": "python",
   "pygments_lexer": "ipython3",
   "version": "3.12.7"
  },
  "toc": {
   "base_numbering": 1,
   "nav_menu": {},
   "number_sections": true,
   "sideBar": true,
   "skip_h1_title": false,
   "title_cell": "Table of Contents",
   "title_sidebar": "Contents",
   "toc_cell": false,
   "toc_position": {},
   "toc_section_display": true,
   "toc_window_display": false
  }
 },
 "nbformat": 4,
 "nbformat_minor": 5
}
