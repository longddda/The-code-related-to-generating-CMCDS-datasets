{
 "cells": [
  {
   "cell_type": "code",
   "execution_count": 42,
   "id": "92daa0b8",
   "metadata": {},
   "outputs": [],
   "source": [
    "# Import libraries for data handling and molecular processing.\n"
    "import pandas as pd\n",
    "from rdkit import Chem\n",
    "import numpy as np"
   ]
  },
  {
   "cell_type": "code",
   "execution_count": 48,
   "id": "5504d002",
   "metadata": {},
   "outputs": [],
   "source": [
    "# Read the CSV file containing SMILES strings and metadata.\n",
    "import pandas as pd\n",
    "data = pd.read_csv(\"test_natural_product_molecules.csv\")"
   ]
  },
  {
   "cell_type": "code",
   "execution_count": 50,
   "id": "81fc25ce",
   "metadata": {},
   "outputs": [
    {
     "data": {
      "text/html": [
       "<div>\n",
       "<style scoped>\n",
       "    .dataframe tbody tr th:only-of-type {\n",
       "        vertical-align: middle;\n",
       "    }\n",
       "\n",
       "    .dataframe tbody tr th {\n",
       "        vertical-align: top;\n",
       "    }\n",
       "\n",
       "    .dataframe thead th {\n",
       "        text-align: right;\n",
       "    }\n",
       "</style>\n",
       "<table border=\"1\" class=\"dataframe\">\n",
       "  <thead>\n",
       "    <tr style=\"text-align: right;\">\n",
       "      <th></th>\n",
       "      <th>ID</th>\n",
       "      <th>SMILES</th>\n",
       "      <th>URL</th>\n",
       "    </tr>\n",
       "  </thead>\n",
       "  <tbody>\n",
       "    <tr>\n",
       "      <th>0</th>\n",
       "      <td>1</td>\n",
       "      <td>C[C@H](CC1)C2=C(C=C(C(O)=O)C=C2O)C1=O</td>\n",
       "      <td>https://doi.org/10.1021/acs.jnatprod.3c00655</td>\n",
       "    </tr>\n",
       "    <tr>\n",
       "      <th>1</th>\n",
       "      <td>2</td>\n",
       "      <td>O=C1[C@]2(O)C3=C(C(C)=CC=C3C=C1C(C)(O)C)CCC(C)...</td>\n",
       "      <td>https://doi.org/10.1021/acs.jnatprod.3c00543</td>\n",
       "    </tr>\n",
       "    <tr>\n",
       "      <th>2</th>\n",
       "      <td>3</td>\n",
       "      <td>O=C(C1=O)C(OC)=CC2=C1C(O)=C(CO[C@@H](C)C3)C3=C2</td>\n",
       "      <td>https://doi.org/10.1021/acs.jnatprod.3c00353</td>\n",
       "    </tr>\n",
       "    <tr>\n",
       "      <th>3</th>\n",
       "      <td>4</td>\n",
       "      <td>OC([C@@H]1CC2=CNC3=C(O)C=CC(C(C)=N1)=C23)=O</td>\n",
       "      <td>https://doi.org/10.1021/acs.jnatprod.2c00716</td>\n",
       "    </tr>\n",
       "    <tr>\n",
       "      <th>4</th>\n",
       "      <td>5</td>\n",
       "      <td>OC([C@@H]1CC2=CNC3=C(O)C=CC(C(CC(C)C)=N1)=C23)=O</td>\n",
       "      <td>https://doi.org/10.1021/acs.jnatprod.2c00716</td>\n",
       "    </tr>\n",
       "    <tr>\n",
       "      <th>5</th>\n",
       "      <td>6</td>\n",
       "      <td>CC1=C2C(CC[C@](CC/C=C(C)/C/C=C/C(C)=O)(C)O2)=C...</td>\n",
       "      <td>https://doi.org/10.1021/acs.jnatprod.3c00087</td>\n",
       "    </tr>\n",
       "    <tr>\n",
       "      <th>6</th>\n",
       "      <td>7</td>\n",
       "      <td>COC1=CC2=C(C3=C(C4=O)C=C2)C(O[C@](C(C=CC5=C6C=...</td>\n",
       "      <td>https://doi.org/10.1021/acs.jnatprod.3c00107</td>\n",
       "    </tr>\n",
       "    <tr>\n",
       "      <th>7</th>\n",
       "      <td>8</td>\n",
       "      <td>O=C1C(OC)=C(C)NC2=C1C([C@H](O)CCCCCCC)=CC=C2OC</td>\n",
       "      <td>https://doi.org/10.1021/acs.jnatprod.2c00861</td>\n",
       "    </tr>\n",
       "    <tr>\n",
       "      <th>8</th>\n",
       "      <td>9</td>\n",
       "      <td>OC1=C(OC)C(OC)=C2C(OC[C@@H](CC3=CC=C(O)C=C3)C2...</td>\n",
       "      <td>https://doi.org/10.1021/acs.jnatprod.2c00859</td>\n",
       "    </tr>\n",
       "    <tr>\n",
       "      <th>9</th>\n",
       "      <td>10</td>\n",
       "      <td>OC1=CC=C(C2=N[C@H](C(NCC(O)=O)=O)CS2)C(O)=C1Cl</td>\n",
       "      <td>https://doi.org/10.1021/acs.jnatprod.1c01049</td>\n",
       "    </tr>\n",
       "  </tbody>\n",
       "</table>\n",
       "</div>"
      ],
      "text/plain": [
       "   ID                                             SMILES  \\\n",
       "0   1              C[C@H](CC1)C2=C(C=C(C(O)=O)C=C2O)C1=O   \n",
       "1   2  O=C1[C@]2(O)C3=C(C(C)=CC=C3C=C1C(C)(O)C)CCC(C)...   \n",
       "2   3    O=C(C1=O)C(OC)=CC2=C1C(O)=C(CO[C@@H](C)C3)C3=C2   \n",
       "3   4        OC([C@@H]1CC2=CNC3=C(O)C=CC(C(C)=N1)=C23)=O   \n",
       "4   5   OC([C@@H]1CC2=CNC3=C(O)C=CC(C(CC(C)C)=N1)=C23)=O   \n",
       "5   6  CC1=C2C(CC[C@](CC/C=C(C)/C/C=C/C(C)=O)(C)O2)=C...   \n",
       "6   7  COC1=CC2=C(C3=C(C4=O)C=C2)C(O[C@](C(C=CC5=C6C=...   \n",
       "7   8     O=C1C(OC)=C(C)NC2=C1C([C@H](O)CCCCCCC)=CC=C2OC   \n",
       "8   9  OC1=C(OC)C(OC)=C2C(OC[C@@H](CC3=CC=C(O)C=C3)C2...   \n",
       "9  10     OC1=CC=C(C2=N[C@H](C(NCC(O)=O)=O)CS2)C(O)=C1Cl   \n",
       "\n",
       "                                            URL  \n",
       "0  https://doi.org/10.1021/acs.jnatprod.3c00655  \n",
       "1  https://doi.org/10.1021/acs.jnatprod.3c00543  \n",
       "2  https://doi.org/10.1021/acs.jnatprod.3c00353  \n",
       "3  https://doi.org/10.1021/acs.jnatprod.2c00716  \n",
       "4  https://doi.org/10.1021/acs.jnatprod.2c00716  \n",
       "5  https://doi.org/10.1021/acs.jnatprod.3c00087  \n",
       "6  https://doi.org/10.1021/acs.jnatprod.3c00107  \n",
       "7  https://doi.org/10.1021/acs.jnatprod.2c00861  \n",
       "8  https://doi.org/10.1021/acs.jnatprod.2c00859  \n",
       "9  https://doi.org/10.1021/acs.jnatprod.1c01049  "
      ]
     },
     "execution_count": 50,
     "metadata": {},
     "output_type": "execute_result"
    }
   ],
   "source": [
    "# Display the first few rows of the dataset.\n"
    "data"
   ]
  },
  {
   "cell_type": "code",
   "execution_count": 52,
   "id": "f581ba5c",
   "metadata": {},
   "outputs": [
    {
     "data": {
      "text/plain": [
       "['C[C@H](CC1)C2=C(C=C(C(O)=O)C=C2O)C1=O',\n",
       " 'O=C1[C@]2(O)C3=C(C(C)=CC=C3C=C1C(C)(O)C)CCC(C)(C)C2',\n",
       " 'O=C(C1=O)C(OC)=CC2=C1C(O)=C(CO[C@@H](C)C3)C3=C2',\n",
       " 'OC([C@@H]1CC2=CNC3=C(O)C=CC(C(C)=N1)=C23)=O',\n",
       " 'OC([C@@H]1CC2=CNC3=C(O)C=CC(C(CC(C)C)=N1)=C23)=O',\n",
       " 'CC1=C2C(CC[C@](CC/C=C(C)/C/C=C/C(C)=O)(C)O2)=CC(O)=C1',\n",
       " 'COC1=CC2=C(C3=C(C4=O)C=C2)C(O[C@](C(C=CC5=C6C=CC(O)=C5OC)=C6C7=O)(C(OC)=C7)C3=CC4=O)=C1',\n",
       " 'O=C1C(OC)=C(C)NC2=C1C([C@H](O)CCCCCCC)=CC=C2OC',\n",
       " 'OC1=C(OC)C(OC)=C2C(OC[C@@H](CC3=CC=C(O)C=C3)C2)=C1',\n",
       " 'OC1=CC=C(C2=N[C@H](C(NCC(O)=O)=O)CS2)C(O)=C1Cl']"
      ]
     },
     "execution_count": 52,
     "metadata": {},
     "output_type": "execute_result"
    }
   ],
   "source": [
    "# Extract the first 10 SMILES strings for further processing.\n"
    "sml = list(data['SMILES'][0:10])\n",
    "sml"
   ]
  },
  {
   "cell_type": "code",
   "execution_count": 56,
   "id": "d83128b3",
   "metadata": {},
   "outputs": [],
   "source": [
    "# Convert SMILES strings to 3D MOL files and save them to the target folder.\n"
    "from rdkit import Chem\n",
    "from rdkit.Chem import AllChem\n",
    "import os\n",
    "\n",
    "# A list containing SMILES molecular structures.\n",
    "smiles_list = sml\n",
    "\n",
    "# Specify the MOL file save directory\n",
    "save_directory = r\"mol_file\"\n",
    "\n",
    "# If the directory does not exist, create it.\n",
    "if not os.path.exists(save_directory):\n",
    "    os.makedirs(save_directory)\n",
    "\n",
    "# Loop through the SMILES list, convert each SMILES structure to a MOL file, and save it.\n",
    "for i, smile in enumerate(smiles_list):\n",
    "    try:\n",
    "        mol = Chem.MolFromSmiles(smile)\n",
    "        m2 = Chem.AddHs(mol)\n",
    "        AllChem.EmbedMolecule(m2)\n",
    "        AllChem.UFFOptimizeMolecule(m2)\n",
    "        Chem.MolToMolFile(m2, os.path.join(save_directory, f'molecule_{i+1}.mol'))\n",
    "    except ValueError as e:\n",
    "        print(f'Error processing molecule {i+1}: {e}')\n",
    "        continue"
   ]
  },
  {
   "cell_type": "code",
   "execution_count": null,
   "id": "36e72fb1-d9b5-4943-9ec2-d5c896e3b293",
   "metadata": {},
   "outputs": [],
   "source": []
  }
 ],
 "metadata": {
  "kernelspec": {
   "display_name": "Python [conda env:base] *",
   "language": "python",
   "name": "conda-base-py"
  },
  "language_info": {
   "codemirror_mode": {
    "name": "ipython",
    "version": 3
   },
   "file_extension": ".py",
   "mimetype": "text/x-python",
   "name": "python",
   "nbconvert_exporter": "python",
   "pygments_lexer": "ipython3",
   "version": "3.12.7"
  },
  "toc": {
   "base_numbering": 1,
   "nav_menu": {},
   "number_sections": true,
   "sideBar": true,
   "skip_h1_title": false,
   "title_cell": "Table of Contents",
   "title_sidebar": "Contents",
   "toc_cell": false,
   "toc_position": {},
   "toc_section_display": true,
   "toc_window_display": false
  }
 },
 "nbformat": 4,
 "nbformat_minor": 5
}
